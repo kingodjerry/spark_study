{
  "nbformat": 4,
  "nbformat_minor": 0,
  "metadata": {
    "colab": {
      "provenance": [],
      "authorship_tag": "ABX9TyM2VRlSVbQyyLhZqC77Ha21",
      "include_colab_link": true
    },
    "kernelspec": {
      "name": "python3",
      "display_name": "Python 3"
    },
    "language_info": {
      "name": "python"
    }
  },
  "cells": [
    {
      "cell_type": "markdown",
      "metadata": {
        "id": "view-in-github",
        "colab_type": "text"
      },
      "source": [
        "<a href=\"https://colab.research.google.com/github/kingodjerry/spark_study/blob/main/Spark_%ED%8C%8C%EC%9D%BC%ED%8F%AC%EB%A7%B7.ipynb\" target=\"_parent\"><img src=\"https://colab.research.google.com/assets/colab-badge.svg\" alt=\"Open In Colab\"/></a>"
      ]
    },
    {
      "cell_type": "markdown",
      "source": [
        "PySpark 설치"
      ],
      "metadata": {
        "id": "zhRc6fFpOYge"
      }
    },
    {
      "cell_type": "code",
      "execution_count": 1,
      "metadata": {
        "colab": {
          "base_uri": "https://localhost:8080/"
        },
        "id": "OYrnUawkOWNY",
        "outputId": "4f946ab4-a9e7-4696-d0d5-56d6dffa5b26"
      },
      "outputs": [
        {
          "output_type": "stream",
          "name": "stdout",
          "text": [
            "Requirement already satisfied: PySpark==3.5.3 in /usr/local/lib/python3.10/dist-packages (3.5.3)\n",
            "Requirement already satisfied: py4j==0.10.9.7 in /usr/local/lib/python3.10/dist-packages (from PySpark==3.5.3) (0.10.9.7)\n"
          ]
        }
      ],
      "source": [
        "!pip install PySpark==3.5.3"
      ]
    },
    {
      "cell_type": "markdown",
      "source": [
        "## Spark Session 만들기"
      ],
      "metadata": {
        "id": "08VvZhjmOhHv"
      }
    },
    {
      "cell_type": "code",
      "source": [
        "from pyspark.sql import *\n",
        "from pyspark.sql.functions import *\n",
        "\n",
        "if __name__ == \"__main__\":\n",
        "  spark = SparkSession \\\n",
        "          .builder \\\n",
        "          .appName(\"Spark Writing Demo\") \\\n",
        "          .master(\"local[3]\") \\\n",
        "          .config(\"spark.jars.packages\", \"org.apache.spark:spark-avro_2.12:3.5.3\") \\\n",
        "          .getOrCreate()"
      ],
      "metadata": {
        "id": "ePpRC1bSOdbz"
      },
      "execution_count": 5,
      "outputs": []
    },
    {
      "cell_type": "code",
      "source": [
        "!wget  https://pyspark-test-sj.s3.us-west-2.amazonaws.com/appl_stock.csv"
      ],
      "metadata": {
        "colab": {
          "base_uri": "https://localhost:8080/"
        },
        "id": "DXuVXkw-O_v0",
        "outputId": "fd2608d3-6a53-4d66-a1c0-7ebc30c6ac0e"
      },
      "execution_count": 6,
      "outputs": [
        {
          "output_type": "stream",
          "name": "stdout",
          "text": [
            "--2024-11-30 13:23:57--  https://pyspark-test-sj.s3.us-west-2.amazonaws.com/appl_stock.csv\n",
            "Resolving pyspark-test-sj.s3.us-west-2.amazonaws.com (pyspark-test-sj.s3.us-west-2.amazonaws.com)... 52.92.190.218, 52.218.168.241, 52.92.242.202, ...\n",
            "Connecting to pyspark-test-sj.s3.us-west-2.amazonaws.com (pyspark-test-sj.s3.us-west-2.amazonaws.com)|52.92.190.218|:443... connected.\n",
            "HTTP request sent, awaiting response... 200 OK\n",
            "Length: 143130 (140K) [text/csv]\n",
            "Saving to: ‘appl_stock.csv’\n",
            "\n",
            "appl_stock.csv      100%[===================>] 139.78K   652KB/s    in 0.2s    \n",
            "\n",
            "2024-11-30 13:23:58 (652 KB/s) - ‘appl_stock.csv’ saved [143130/143130]\n",
            "\n"
          ]
        }
      ]
    },
    {
      "cell_type": "code",
      "source": [
        "df = spark.read \\\n",
        "    .format(\"csv\") \\\n",
        "    .load(\"appl_stock.csv\")"
      ],
      "metadata": {
        "id": "BzFsefi4PJS_"
      },
      "execution_count": 10,
      "outputs": []
    },
    {
      "cell_type": "code",
      "source": [
        "print(\"Num Partitions before: \"+ str(df.rdd.getNumPartitions()))\n",
        "df.groupBy(spark_partition_id()).count().show() # 같은 id를 묶어서 show"
      ],
      "metadata": {
        "colab": {
          "base_uri": "https://localhost:8080/"
        },
        "id": "xeyep5yYPoo6",
        "outputId": "f7b6b389-e6da-4fef-cad8-cb7f41947a0b"
      },
      "execution_count": 11,
      "outputs": [
        {
          "output_type": "stream",
          "name": "stdout",
          "text": [
            "Num Partitions before: 1\n",
            "+--------------------+-----+\n",
            "|SPARK_PARTITION_ID()|count|\n",
            "+--------------------+-----+\n",
            "|                   0| 1763|\n",
            "+--------------------+-----+\n",
            "\n"
          ]
        }
      ]
    },
    {
      "cell_type": "code",
      "source": [
        "df2 = df.repartition(4) # 파티션 수 늘리기\n",
        "print(\"Num Partitions after: \"+ str(df2.rdd.getNumPartitions()))\n",
        "df2.groupBy(spark_partition_id()).count().show()"
      ],
      "metadata": {
        "colab": {
          "base_uri": "https://localhost:8080/"
        },
        "id": "wolb6Wi7P5Xu",
        "outputId": "b8b5b7f2-3f79-45a1-9a64-864792f659a9"
      },
      "execution_count": 12,
      "outputs": [
        {
          "output_type": "stream",
          "name": "stdout",
          "text": [
            "Num Partitions after: 4\n",
            "+--------------------+-----+\n",
            "|SPARK_PARTITION_ID()|count|\n",
            "+--------------------+-----+\n",
            "|                   0|  440|\n",
            "|                   1|  441|\n",
            "|                   2|  441|\n",
            "|                   3|  441|\n",
            "+--------------------+-----+\n",
            "\n"
          ]
        }
      ]
    },
    {
      "cell_type": "code",
      "source": [
        "df3 = df2.coalesce(2) # 파티션 수 줄이기\n",
        "print(\"Num Partitions after: \"+ str(df3.rdd.getNumPartitions()))\n",
        "df3.groupBy(spark_partition_id()).count().show()"
      ],
      "metadata": {
        "colab": {
          "base_uri": "https://localhost:8080/"
        },
        "id": "yX9HJTjRQE1v",
        "outputId": "548520d6-08a8-44a6-8914-42bd79775eb8"
      },
      "execution_count": 15,
      "outputs": [
        {
          "output_type": "stream",
          "name": "stdout",
          "text": [
            "Num Partitions after: 2\n",
            "+--------------------+-----+\n",
            "|SPARK_PARTITION_ID()|count|\n",
            "+--------------------+-----+\n",
            "|                   0|  881|\n",
            "|                   1|  882|\n",
            "+--------------------+-----+\n",
            "\n"
          ]
        }
      ]
    },
    {
      "cell_type": "code",
      "source": [
        "df.write \\\n",
        "    .format(\"avro\") \\\n",
        "    .mode(\"overwrite\") \\\n",
        "    .option(\"path\", \"dataOutput/avro/\") \\\n",
        "    .save()"
      ],
      "metadata": {
        "id": "p9nfcNWzQJjs"
      },
      "execution_count": 16,
      "outputs": []
    },
    {
      "cell_type": "code",
      "source": [
        "df2.write \\\n",
        "    .format(\"parquet\") \\\n",
        "    .mode(\"overwrite\") \\\n",
        "    .option(\"path\", \"dataOutput/parquet/\") \\\n",
        "    .save()"
      ],
      "metadata": {
        "id": "KH6JZRRwQg1p"
      },
      "execution_count": 17,
      "outputs": []
    },
    {
      "cell_type": "code",
      "source": [
        "df3.write \\\n",
        "    .format(\"json\") \\\n",
        "    .mode(\"overwrite\") \\\n",
        "    .option(\"path\", \"dataOutput/json/\") \\\n",
        "    .save()"
      ],
      "metadata": {
        "id": "c95_12mFTZtB"
      },
      "execution_count": 18,
      "outputs": []
    },
    {
      "cell_type": "code",
      "source": [
        "!ls -tl dataOutput/"
      ],
      "metadata": {
        "colab": {
          "base_uri": "https://localhost:8080/"
        },
        "id": "_4KSn3vvTjIa",
        "outputId": "1dde0ca6-0e65-4544-d925-56b43f380c2d"
      },
      "execution_count": 19,
      "outputs": [
        {
          "output_type": "stream",
          "name": "stdout",
          "text": [
            "total 12\n",
            "drwxr-xr-x 2 root root 4096 Nov 30 13:41 json\n",
            "drwxr-xr-x 2 root root 4096 Nov 30 13:40 parquet\n",
            "drwxr-xr-x 2 root root 4096 Nov 30 13:28 avro\n"
          ]
        }
      ]
    },
    {
      "cell_type": "code",
      "source": [
        "!ls -tl dataOutput/parquet/"
      ],
      "metadata": {
        "colab": {
          "base_uri": "https://localhost:8080/"
        },
        "id": "1KZq_zw1TnWt",
        "outputId": "0d55170f-0507-489e-f586-0d3bb9c360e0"
      },
      "execution_count": 20,
      "outputs": [
        {
          "output_type": "stream",
          "name": "stdout",
          "text": [
            "total 112\n",
            "-rw-r--r-- 1 root root     0 Nov 30 13:40 _SUCCESS\n",
            "-rw-r--r-- 1 root root 27847 Nov 30 13:40 part-00003-eb277248-7835-4223-85b3-8ee05428096a-c000.snappy.parquet\n",
            "-rw-r--r-- 1 root root 27910 Nov 30 13:40 part-00002-eb277248-7835-4223-85b3-8ee05428096a-c000.snappy.parquet\n",
            "-rw-r--r-- 1 root root 27630 Nov 30 13:40 part-00000-eb277248-7835-4223-85b3-8ee05428096a-c000.snappy.parquet\n",
            "-rw-r--r-- 1 root root 27652 Nov 30 13:40 part-00001-eb277248-7835-4223-85b3-8ee05428096a-c000.snappy.parquet\n"
          ]
        }
      ]
    },
    {
      "cell_type": "code",
      "source": [
        "!ls -tl dataOutput/avro/"
      ],
      "metadata": {
        "colab": {
          "base_uri": "https://localhost:8080/"
        },
        "id": "e_A9fR0mTq5p",
        "outputId": "1c775ba6-c297-47a1-9ba1-b601ecb5adf3"
      },
      "execution_count": 21,
      "outputs": [
        {
          "output_type": "stream",
          "name": "stdout",
          "text": [
            "total 88\n",
            "-rw-r--r-- 1 root root     0 Nov 30 13:28 _SUCCESS\n",
            "-rw-r--r-- 1 root root 89029 Nov 30 13:28 part-00000-7a5e8f8e-aea6-407f-8984-6a96de9560de-c000.avro\n"
          ]
        }
      ]
    }
  ]
}